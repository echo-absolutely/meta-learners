{
  "nbformat": 4,
  "nbformat_minor": 0,
  "metadata": {
    "colab": {
      "name": "real_data_analysis.ipynb",
      "provenance": [],
      "collapsed_sections": [],
      "include_colab_link": true
    },
    "kernelspec": {
      "display_name": "Python 3",
      "language": "python",
      "name": "python3"
    },
    "language_info": {
      "codemirror_mode": {
        "name": "ipython",
        "version": 3
      },
      "file_extension": ".py",
      "mimetype": "text/x-python",
      "name": "python",
      "nbconvert_exporter": "python",
      "pygments_lexer": "ipython3",
      "version": "3.7.9"
    }
  },
  "cells": [
    {
      "cell_type": "markdown",
      "metadata": {
        "id": "view-in-github",
        "colab_type": "text"
      },
      "source": [
        "<a href=\"https://colab.research.google.com/github/fguiso/meta-learners/blob/main/real_data_analysis.ipynb\" target=\"_parent\"><img src=\"https://colab.research.google.com/assets/colab-badge.svg\" alt=\"Open In Colab\"/></a>"
      ]
    },
    {
      "cell_type": "code",
      "metadata": {
        "id": "vu_C1HZvo_0u",
        "colab": {
          "base_uri": "https://localhost:8080/"
        },
        "outputId": "fc159872-990e-4890-8513-5cc875179f54"
      },
      "source": [
        "from google.colab import drive\n",
        "drive.mount('/content/drive/')"
      ],
      "execution_count": 131,
      "outputs": [
        {
          "output_type": "stream",
          "text": [
            "Drive already mounted at /content/drive/; to attempt to forcibly remount, call drive.mount(\"/content/drive/\", force_remount=True).\n"
          ],
          "name": "stdout"
        }
      ]
    },
    {
      "cell_type": "code",
      "metadata": {
        "id": "YoFY9ymzo1e-"
      },
      "source": [
        "import pandas as pd\n",
        "import numpy as np\n",
        "\n",
        "import sklearn\n",
        "from sklearn.ensemble import RandomForestClassifier, GradientBoostingClassifier, RandomForestRegressor, GradientBoostingRegressor\n",
        "from sklearn.linear_model import LinearRegression, Ridge\n",
        "\n",
        "import matplotlib.pyplot as plt\n",
        "import matplotlib.ticker as mtick\n",
        "\n",
        "np.random.seed(2079)"
      ],
      "execution_count": 170,
      "outputs": []
    },
    {
      "cell_type": "code",
      "metadata": {
        "id": "OO2WtoqEpNZF"
      },
      "source": [
        "# Change this based on who is running the code\n",
        "path = '/content/drive/MyDrive/ML Tools Project Data/'\n",
        "# path = '/content/drive/MyDrive/NYU Year 2 S2/ML/meta-learners/'"
      ],
      "execution_count": 133,
      "outputs": []
    },
    {
      "cell_type": "code",
      "metadata": {
        "id": "OaG2WeKzo1fH"
      },
      "source": [
        "gotv = pd.read_csv(path+'gotv.csv')"
      ],
      "execution_count": 134,
      "outputs": []
    },
    {
      "cell_type": "code",
      "metadata": {
        "colab": {
          "base_uri": "https://localhost:8080/",
          "height": 406
        },
        "id": "rx9V_dqeo1fL",
        "outputId": "9f49897f-d6a1-473a-81a4-0be48c6c052f"
      },
      "source": [
        "gotv #.head()"
      ],
      "execution_count": 135,
      "outputs": [
        {
          "output_type": "execute_result",
          "data": {
            "text/html": [
              "<div>\n",
              "<style scoped>\n",
              "    .dataframe tbody tr th:only-of-type {\n",
              "        vertical-align: middle;\n",
              "    }\n",
              "\n",
              "    .dataframe tbody tr th {\n",
              "        vertical-align: top;\n",
              "    }\n",
              "\n",
              "    .dataframe thead th {\n",
              "        text-align: right;\n",
              "    }\n",
              "</style>\n",
              "<table border=\"1\" class=\"dataframe\">\n",
              "  <thead>\n",
              "    <tr style=\"text-align: right;\">\n",
              "      <th></th>\n",
              "      <th>sex</th>\n",
              "      <th>g2000</th>\n",
              "      <th>g2002</th>\n",
              "      <th>p2000</th>\n",
              "      <th>p2002</th>\n",
              "      <th>p2004</th>\n",
              "      <th>age</th>\n",
              "      <th>treatment</th>\n",
              "      <th>voted</th>\n",
              "    </tr>\n",
              "  </thead>\n",
              "  <tbody>\n",
              "    <tr>\n",
              "      <th>0</th>\n",
              "      <td>1</td>\n",
              "      <td>1</td>\n",
              "      <td>1</td>\n",
              "      <td>0</td>\n",
              "      <td>1</td>\n",
              "      <td>0</td>\n",
              "      <td>65</td>\n",
              "      <td>1</td>\n",
              "      <td>0</td>\n",
              "    </tr>\n",
              "    <tr>\n",
              "      <th>1</th>\n",
              "      <td>0</td>\n",
              "      <td>1</td>\n",
              "      <td>1</td>\n",
              "      <td>0</td>\n",
              "      <td>1</td>\n",
              "      <td>0</td>\n",
              "      <td>59</td>\n",
              "      <td>1</td>\n",
              "      <td>0</td>\n",
              "    </tr>\n",
              "    <tr>\n",
              "      <th>2</th>\n",
              "      <td>1</td>\n",
              "      <td>0</td>\n",
              "      <td>0</td>\n",
              "      <td>0</td>\n",
              "      <td>0</td>\n",
              "      <td>0</td>\n",
              "      <td>25</td>\n",
              "      <td>0</td>\n",
              "      <td>0</td>\n",
              "    </tr>\n",
              "    <tr>\n",
              "      <th>3</th>\n",
              "      <td>0</td>\n",
              "      <td>1</td>\n",
              "      <td>1</td>\n",
              "      <td>0</td>\n",
              "      <td>1</td>\n",
              "      <td>0</td>\n",
              "      <td>47</td>\n",
              "      <td>0</td>\n",
              "      <td>1</td>\n",
              "    </tr>\n",
              "    <tr>\n",
              "      <th>4</th>\n",
              "      <td>1</td>\n",
              "      <td>1</td>\n",
              "      <td>1</td>\n",
              "      <td>0</td>\n",
              "      <td>1</td>\n",
              "      <td>0</td>\n",
              "      <td>50</td>\n",
              "      <td>0</td>\n",
              "      <td>1</td>\n",
              "    </tr>\n",
              "    <tr>\n",
              "      <th>...</th>\n",
              "      <td>...</td>\n",
              "      <td>...</td>\n",
              "      <td>...</td>\n",
              "      <td>...</td>\n",
              "      <td>...</td>\n",
              "      <td>...</td>\n",
              "      <td>...</td>\n",
              "      <td>...</td>\n",
              "      <td>...</td>\n",
              "    </tr>\n",
              "    <tr>\n",
              "      <th>229456</th>\n",
              "      <td>1</td>\n",
              "      <td>1</td>\n",
              "      <td>1</td>\n",
              "      <td>0</td>\n",
              "      <td>1</td>\n",
              "      <td>1</td>\n",
              "      <td>63</td>\n",
              "      <td>0</td>\n",
              "      <td>1</td>\n",
              "    </tr>\n",
              "    <tr>\n",
              "      <th>229457</th>\n",
              "      <td>1</td>\n",
              "      <td>1</td>\n",
              "      <td>1</td>\n",
              "      <td>1</td>\n",
              "      <td>0</td>\n",
              "      <td>1</td>\n",
              "      <td>51</td>\n",
              "      <td>0</td>\n",
              "      <td>0</td>\n",
              "    </tr>\n",
              "    <tr>\n",
              "      <th>229458</th>\n",
              "      <td>0</td>\n",
              "      <td>1</td>\n",
              "      <td>0</td>\n",
              "      <td>0</td>\n",
              "      <td>0</td>\n",
              "      <td>0</td>\n",
              "      <td>48</td>\n",
              "      <td>0</td>\n",
              "      <td>0</td>\n",
              "    </tr>\n",
              "    <tr>\n",
              "      <th>229459</th>\n",
              "      <td>1</td>\n",
              "      <td>1</td>\n",
              "      <td>1</td>\n",
              "      <td>1</td>\n",
              "      <td>1</td>\n",
              "      <td>1</td>\n",
              "      <td>69</td>\n",
              "      <td>0</td>\n",
              "      <td>1</td>\n",
              "    </tr>\n",
              "    <tr>\n",
              "      <th>229460</th>\n",
              "      <td>0</td>\n",
              "      <td>1</td>\n",
              "      <td>1</td>\n",
              "      <td>0</td>\n",
              "      <td>0</td>\n",
              "      <td>1</td>\n",
              "      <td>57</td>\n",
              "      <td>0</td>\n",
              "      <td>1</td>\n",
              "    </tr>\n",
              "  </tbody>\n",
              "</table>\n",
              "<p>229461 rows × 9 columns</p>\n",
              "</div>"
            ],
            "text/plain": [
              "        sex  g2000  g2002  p2000  p2002  p2004  age  treatment  voted\n",
              "0         1      1      1      0      1      0   65          1      0\n",
              "1         0      1      1      0      1      0   59          1      0\n",
              "2         1      0      0      0      0      0   25          0      0\n",
              "3         0      1      1      0      1      0   47          0      1\n",
              "4         1      1      1      0      1      0   50          0      1\n",
              "...     ...    ...    ...    ...    ...    ...  ...        ...    ...\n",
              "229456    1      1      1      0      1      1   63          0      1\n",
              "229457    1      1      1      1      0      1   51          0      0\n",
              "229458    0      1      0      0      0      0   48          0      0\n",
              "229459    1      1      1      1      1      1   69          0      1\n",
              "229460    0      1      1      0      0      1   57          0      1\n",
              "\n",
              "[229461 rows x 9 columns]"
            ]
          },
          "metadata": {
            "tags": []
          },
          "execution_count": 135
        }
      ]
    },
    {
      "cell_type": "code",
      "metadata": {
        "id": "Py4DPAlNqQsj",
        "colab": {
          "base_uri": "https://localhost:8080/"
        },
        "outputId": "a7e484e3-60a9-47a9-a60e-624ccbb9b677"
      },
      "source": [
        "gotv.columns"
      ],
      "execution_count": 136,
      "outputs": [
        {
          "output_type": "execute_result",
          "data": {
            "text/plain": [
              "Index(['sex', 'g2000', 'g2002', 'p2000', 'p2002', 'p2004', 'age', 'treatment',\n",
              "       'voted'],\n",
              "      dtype='object')"
            ]
          },
          "metadata": {
            "tags": []
          },
          "execution_count": 136
        }
      ]
    },
    {
      "cell_type": "markdown",
      "metadata": {
        "id": "7XmWjr1NW9Ak"
      },
      "source": [
        "# Define base learner"
      ]
    },
    {
      "cell_type": "code",
      "metadata": {
        "id": "8IoZAD-MW-8X"
      },
      "source": [
        "# XGBoost\n",
        "\n",
        "# Base learner\n",
        "base_learner = GradientBoostingClassifier()\n",
        "\n",
        "# Base learner of the second stage\n",
        "base_learner_2 = GradientBoostingRegressor()\n",
        "\n",
        "# Classifier to get propensity scores\n",
        "prop_classifier = GradientBoostingClassifier()\n",
        "\n",
        "# # Random Forest\n",
        "\n",
        "# # Base learner\n",
        "# base_learner = RandomForestClassifier(n_estimators=1_000,random_state=50)\n",
        "\n",
        "# # Base learner of the second stage\n",
        "# base_learner_2 = RandomForestRegressor()\n",
        "\n",
        "# # Classifier to get propensity scores\n",
        "# prop_classifier = RandomForestClassifier()\n"
      ],
      "execution_count": 203,
      "outputs": []
    },
    {
      "cell_type": "markdown",
      "metadata": {
        "id": "R8rSOrCHo1fK"
      },
      "source": [
        "# T-learner on voter turnout experiment\n",
        "\n",
        "Estimate control response function $\\mu_0(x) = E[Y (0) | X = x]$ using observations in the\n",
        "control group\n",
        "\n",
        "Estimate treatment response function $\\mu_1(x) = E[Y (1) | X = x]$ using observations in the treatment group\n",
        "\n",
        "CATE estimator is given by $\\hat{\\tau}^T(x) = \\hat{\\mu_1}(x)−\\hat{\\mu_0}(x)$\n",
        "\n"
      ]
    },
    {
      "cell_type": "code",
      "metadata": {
        "id": "Lx68sBYiwpeN"
      },
      "source": [
        "x_vars = ['sex', 'g2000', 'g2002', 'p2000', 'p2002', 'p2004', 'age']\n",
        "def data_prep(dataset, x_vars = ['sex', 'g2000', 'g2002', 'p2000', 'p2002', 'p2004', 'age']):\n",
        "    # Create dataset for voter turnout experiment\n",
        "    # Y: outcome (here, whether individual i voted or not)\n",
        "    # W: treatment\n",
        "    # X: covariates (here, whether individual i voted or not)\n",
        "\n",
        "    data = pd.DataFrame()\n",
        "    data['Y'] = dataset['voted'].copy()\n",
        "    data['W'] = dataset['treatment'].copy()\n",
        "    data[x_vars] = dataset[x_vars].copy()\n",
        "    return data"
      ],
      "execution_count": 204,
      "outputs": []
    },
    {
      "cell_type": "code",
      "metadata": {
        "id": "uCUSymiXwpeN",
        "colab": {
          "base_uri": "https://localhost:8080/",
          "height": 406
        },
        "outputId": "be53be83-feb0-459c-ec3b-fe8bcb852d48"
      },
      "source": [
        "data = data_prep(gotv)\n",
        "data"
      ],
      "execution_count": 205,
      "outputs": [
        {
          "output_type": "execute_result",
          "data": {
            "text/html": [
              "<div>\n",
              "<style scoped>\n",
              "    .dataframe tbody tr th:only-of-type {\n",
              "        vertical-align: middle;\n",
              "    }\n",
              "\n",
              "    .dataframe tbody tr th {\n",
              "        vertical-align: top;\n",
              "    }\n",
              "\n",
              "    .dataframe thead th {\n",
              "        text-align: right;\n",
              "    }\n",
              "</style>\n",
              "<table border=\"1\" class=\"dataframe\">\n",
              "  <thead>\n",
              "    <tr style=\"text-align: right;\">\n",
              "      <th></th>\n",
              "      <th>Y</th>\n",
              "      <th>W</th>\n",
              "      <th>sex</th>\n",
              "      <th>g2000</th>\n",
              "      <th>g2002</th>\n",
              "      <th>p2000</th>\n",
              "      <th>p2002</th>\n",
              "      <th>p2004</th>\n",
              "      <th>age</th>\n",
              "    </tr>\n",
              "  </thead>\n",
              "  <tbody>\n",
              "    <tr>\n",
              "      <th>0</th>\n",
              "      <td>0</td>\n",
              "      <td>1</td>\n",
              "      <td>1</td>\n",
              "      <td>1</td>\n",
              "      <td>1</td>\n",
              "      <td>0</td>\n",
              "      <td>1</td>\n",
              "      <td>0</td>\n",
              "      <td>65</td>\n",
              "    </tr>\n",
              "    <tr>\n",
              "      <th>1</th>\n",
              "      <td>0</td>\n",
              "      <td>1</td>\n",
              "      <td>0</td>\n",
              "      <td>1</td>\n",
              "      <td>1</td>\n",
              "      <td>0</td>\n",
              "      <td>1</td>\n",
              "      <td>0</td>\n",
              "      <td>59</td>\n",
              "    </tr>\n",
              "    <tr>\n",
              "      <th>2</th>\n",
              "      <td>0</td>\n",
              "      <td>0</td>\n",
              "      <td>1</td>\n",
              "      <td>0</td>\n",
              "      <td>0</td>\n",
              "      <td>0</td>\n",
              "      <td>0</td>\n",
              "      <td>0</td>\n",
              "      <td>25</td>\n",
              "    </tr>\n",
              "    <tr>\n",
              "      <th>3</th>\n",
              "      <td>1</td>\n",
              "      <td>0</td>\n",
              "      <td>0</td>\n",
              "      <td>1</td>\n",
              "      <td>1</td>\n",
              "      <td>0</td>\n",
              "      <td>1</td>\n",
              "      <td>0</td>\n",
              "      <td>47</td>\n",
              "    </tr>\n",
              "    <tr>\n",
              "      <th>4</th>\n",
              "      <td>1</td>\n",
              "      <td>0</td>\n",
              "      <td>1</td>\n",
              "      <td>1</td>\n",
              "      <td>1</td>\n",
              "      <td>0</td>\n",
              "      <td>1</td>\n",
              "      <td>0</td>\n",
              "      <td>50</td>\n",
              "    </tr>\n",
              "    <tr>\n",
              "      <th>...</th>\n",
              "      <td>...</td>\n",
              "      <td>...</td>\n",
              "      <td>...</td>\n",
              "      <td>...</td>\n",
              "      <td>...</td>\n",
              "      <td>...</td>\n",
              "      <td>...</td>\n",
              "      <td>...</td>\n",
              "      <td>...</td>\n",
              "    </tr>\n",
              "    <tr>\n",
              "      <th>229456</th>\n",
              "      <td>1</td>\n",
              "      <td>0</td>\n",
              "      <td>1</td>\n",
              "      <td>1</td>\n",
              "      <td>1</td>\n",
              "      <td>0</td>\n",
              "      <td>1</td>\n",
              "      <td>1</td>\n",
              "      <td>63</td>\n",
              "    </tr>\n",
              "    <tr>\n",
              "      <th>229457</th>\n",
              "      <td>0</td>\n",
              "      <td>0</td>\n",
              "      <td>1</td>\n",
              "      <td>1</td>\n",
              "      <td>1</td>\n",
              "      <td>1</td>\n",
              "      <td>0</td>\n",
              "      <td>1</td>\n",
              "      <td>51</td>\n",
              "    </tr>\n",
              "    <tr>\n",
              "      <th>229458</th>\n",
              "      <td>0</td>\n",
              "      <td>0</td>\n",
              "      <td>0</td>\n",
              "      <td>1</td>\n",
              "      <td>0</td>\n",
              "      <td>0</td>\n",
              "      <td>0</td>\n",
              "      <td>0</td>\n",
              "      <td>48</td>\n",
              "    </tr>\n",
              "    <tr>\n",
              "      <th>229459</th>\n",
              "      <td>1</td>\n",
              "      <td>0</td>\n",
              "      <td>1</td>\n",
              "      <td>1</td>\n",
              "      <td>1</td>\n",
              "      <td>1</td>\n",
              "      <td>1</td>\n",
              "      <td>1</td>\n",
              "      <td>69</td>\n",
              "    </tr>\n",
              "    <tr>\n",
              "      <th>229460</th>\n",
              "      <td>1</td>\n",
              "      <td>0</td>\n",
              "      <td>0</td>\n",
              "      <td>1</td>\n",
              "      <td>1</td>\n",
              "      <td>0</td>\n",
              "      <td>0</td>\n",
              "      <td>1</td>\n",
              "      <td>57</td>\n",
              "    </tr>\n",
              "  </tbody>\n",
              "</table>\n",
              "<p>229461 rows × 9 columns</p>\n",
              "</div>"
            ],
            "text/plain": [
              "        Y  W  sex  g2000  g2002  p2000  p2002  p2004  age\n",
              "0       0  1    1      1      1      0      1      0   65\n",
              "1       0  1    0      1      1      0      1      0   59\n",
              "2       0  0    1      0      0      0      0      0   25\n",
              "3       1  0    0      1      1      0      1      0   47\n",
              "4       1  0    1      1      1      0      1      0   50\n",
              "...    .. ..  ...    ...    ...    ...    ...    ...  ...\n",
              "229456  1  0    1      1      1      0      1      1   63\n",
              "229457  0  0    1      1      1      1      0      1   51\n",
              "229458  0  0    0      1      0      0      0      0   48\n",
              "229459  1  0    1      1      1      1      1      1   69\n",
              "229460  1  0    0      1      1      0      0      1   57\n",
              "\n",
              "[229461 rows x 9 columns]"
            ]
          },
          "metadata": {
            "tags": []
          },
          "execution_count": 205
        }
      ]
    },
    {
      "cell_type": "markdown",
      "metadata": {
        "id": "vGzCAszj6F6g"
      },
      "source": [
        "# Define T-, S-, and X-learners"
      ]
    },
    {
      "cell_type": "code",
      "metadata": {
        "id": "ndz4gNlcaNsp"
      },
      "source": [
        "def t_learner(data, x_vars, base_learner):\n",
        "    # separate outcomes for treated and untreated individuals\n",
        "    data['Y_0'] = data[data['W']==0]['Y']\n",
        "    data['Y_1'] = data[data['W']==1]['Y']\n",
        "\n",
        "    # create separate dataframes for treated and untreated so we can fit base_learner\n",
        "    treatment_group = data[x_vars+['Y_1']].dropna()\n",
        "    control_group = data[x_vars+['Y_0']].dropna()\n",
        "\n",
        "    # Estimate control group response function\n",
        "    model_0 = base_learner\n",
        "    # This is fit on the control group\n",
        "    model_0.fit(control_group[x_vars],control_group['Y_0'])\n",
        "    mu_0 = model_0.predict_proba(data[x_vars])[:,1]\n",
        "\n",
        "    # Estimate treatment group response function\n",
        "    model_1 = base_learner\n",
        "    # This is fit on the treatment group\n",
        "    model_1.fit(treatment_group[x_vars],treatment_group['Y_1'])\n",
        "    mu_1 = model_1.predict_proba(data[x_vars])[:,1]\n",
        "\n",
        "    cate_t = mu_1 - mu_0\n",
        "\n",
        "    return cate_t"
      ],
      "execution_count": 206,
      "outputs": []
    },
    {
      "cell_type": "code",
      "metadata": {
        "colab": {
          "base_uri": "https://localhost:8080/"
        },
        "id": "CwY_wmAzo1fP",
        "outputId": "2ab49ef7-0279-4f27-b898-59a8f83252b1"
      },
      "source": [
        "cate_t = t_learner(data, x_vars, base_learner)\n",
        "cate_t.shape"
      ],
      "execution_count": 207,
      "outputs": [
        {
          "output_type": "execute_result",
          "data": {
            "text/plain": [
              "(229461,)"
            ]
          },
          "metadata": {
            "tags": []
          },
          "execution_count": 207
        }
      ]
    },
    {
      "cell_type": "markdown",
      "metadata": {
        "id": "esfOcIbco1fQ"
      },
      "source": [
        "# S-learner on voter turnout experiment\n",
        "\n",
        "Estimate the combined response function $\\mu(x,w) := E[Y | X = x,W = w]$\n",
        "* where $Y =Y(w)$\n",
        "* Let $\\hat{\\mu}(x,w)$ be our estimate for $\\mu(x,w)$\n",
        "\n",
        "CATE estimator is given by $\\hat{\\tau}^S(x) = \\hat{\\mu}(x,1)−\\hat{\\mu}(x,0)$\n"
      ]
    },
    {
      "cell_type": "code",
      "metadata": {
        "id": "OweUN7a-amxl"
      },
      "source": [
        "def s_learner(data, x_vars, base_learner):\n",
        "    # Estimate combined response function (here, we include W as an input)\n",
        "    model_combined = base_learner\n",
        "    model_combined.fit(data[x_vars+['W']],data['Y'])\n",
        "\n",
        "    # Create dataframe for predictions\n",
        "    data_w = data[x_vars].copy()\n",
        "\n",
        "    # Pretend everyone is treated\n",
        "    # Estimated response when W = 1\n",
        "    data_w['W=1'] = 1\n",
        "\n",
        "    # Pretend everyone is control\n",
        "    # Estimated response when W = 0\n",
        "    data_w['W=0'] = 0\n",
        "\n",
        "    # Estimate individual response under assumption that everyone is treated (i.e. W=1)\n",
        "    mu_1_s = model_combined.predict_proba(data_w[x_vars+['W=1']])[:,1]\n",
        "\n",
        "    # Estimate individual response under assumption that everyone is in control group (i.e. W=0)\n",
        "    mu_0_s = model_combined.predict_proba(data_w[x_vars+['W=0']])[:,1]\n",
        "\n",
        "    cate_s = mu_1_s - mu_0_s\n",
        "\n",
        "    return cate_s\n"
      ],
      "execution_count": 208,
      "outputs": []
    },
    {
      "cell_type": "code",
      "metadata": {
        "colab": {
          "base_uri": "https://localhost:8080/"
        },
        "id": "0XOXxs9g9wO4",
        "outputId": "76895fbf-dc77-41be-d223-38cb9f981ee7"
      },
      "source": [
        "cate_s = s_learner(data, x_vars, base_learner)\n",
        "cate_s.shape"
      ],
      "execution_count": 209,
      "outputs": [
        {
          "output_type": "execute_result",
          "data": {
            "text/plain": [
              "(229461,)"
            ]
          },
          "metadata": {
            "tags": []
          },
          "execution_count": 209
        }
      ]
    },
    {
      "cell_type": "markdown",
      "metadata": {
        "id": "RVEBmnXXo1fQ"
      },
      "source": [
        "# X-learner on voter turnout experiment\n",
        "\n",
        "Fit treatment and control response estimators $\\hat{\\mu}_1$ and $\\hat{\\mu}_0$ (T-learner).\n",
        "\n",
        "* Use $\\hat{\\mu}_1$ to get imputed treatment effect for the control group.\n",
        "\n",
        "* Use $\\hat{\\mu}_0$ to get imputed treatment effect for the treatment group.\n",
        "\n",
        "\"Base learners of the second stage\" (note: results seem to be **very** sensitive to the choice of model for this)\n",
        "\n",
        "* Let $\\hat{\\tau}_0(x)$ be a CATE estimate fit to control group\n",
        "\n",
        "* Let $\\hat{\\tau}_1(x)$ be a CATE estimate fit to treatment group\n",
        "\n",
        "Final estimator is a weighted average of the two estimates:\n",
        "\n",
        "$\\hat{\\tau}(x) = g(x)\\hat{\\tau}_0(x)+(1−g(x))\\hat{\\tau}_1(x)$ where $g\\in[0,1]$ is a weight function\n",
        "\n",
        "Authors recommend taking $g(x) = \\pi(x)$ or $g(x) = \\hat{\\pi}(x)$ if $\\pi$ is not known"
      ]
    },
    {
      "cell_type": "markdown",
      "metadata": {
        "id": "pqER8eX8wPtX"
      },
      "source": [
        "#### Base learners of the second stage:\n",
        "Use any supervised learning or regression method(s) to estimate $\\hat{\\tau}_0(x)$ in two ways: using the imputed treatment effects as the response variable in the treatment group to obtain $\\hat{\\tau}_1(x)$ and similarly in the control group to obtain $\\hat{\\tau}_0(x)$. Call the supervised learning or regression algorithms base learners of the second stage."
      ]
    },
    {
      "cell_type": "code",
      "metadata": {
        "id": "dIk3N8M7a7i-"
      },
      "source": [
        "def x_learner(data, x_vars, base_learner, base_learner_2, prop_classifier):\n",
        "    \"\"\"\n",
        "    Input:\n",
        "    data: pd.Dataframe\n",
        "    base_learner: base learner used to get mu_0, mu_1\n",
        "    base_learner_2: base learner of the second stage (used to get tau_0, tau_1)\n",
        "    prop_classifier: classifier to estimate propensity score\n",
        "    Output:\n",
        "    CATE estimate\n",
        "    \"\"\"\n",
        "    # separate outcomes for treated and untreated individuals\n",
        "    data['Y_0'] = data[data['W']==0]['Y']\n",
        "    data['Y_1'] = data[data['W']==1]['Y']\n",
        "\n",
        "    # create separate dataframes for treated and untreated so we can fit base_learner\n",
        "    treatment_group = data[x_vars+['Y_1']].dropna()\n",
        "    control_group = data[x_vars+['Y_0']].dropna()\n",
        "\n",
        "    # Estimate control response function\n",
        "    # Same as T-learner\n",
        "    model_0 = base_learner \n",
        "    model_0.fit(control_group[x_vars],control_group['Y_0'])\n",
        "\n",
        "    # Use mu_0 to impute potential outcome Y(0) for TREATMENT group\n",
        "    treatment_group['y_hat_0'] = model_0.predict_proba(treatment_group[x_vars])[:,1]\n",
        "\n",
        "    # Estimate treatment response function\n",
        "    # Same as T-learner\n",
        "    model_1 = base_learner\n",
        "    model_1.fit(treatment_group[x_vars],treatment_group['Y_1'])\n",
        "\n",
        "    # Use mu_1 to impute  potential outcome Y(1) for CONTROL group\n",
        "    control_group['y_hat_1'] = model_1.predict_proba(control_group[x_vars])[:,1]\n",
        "\n",
        "    # Add treatment flag\n",
        "    treatment_group['W'] = 1\n",
        "    control_group['W'] = 0\n",
        "\n",
        "    imputed_data = pd.concat((treatment_group,control_group))\n",
        "\n",
        "    # Use imputed potential outcomes to imputed treatment effects \n",
        "    imputed_data['diff_w=0'] = imputed_data['y_hat_1'] - imputed_data['Y_0'] # y_hat_1 is NaN for W=1\n",
        "    imputed_data['diff_w=1'] = imputed_data['Y_1'] - imputed_data['y_hat_0'] # y_hat_0 is NaN for W=0\n",
        "\n",
        "    # We have imputed \"full\" data\n",
        "    control_imp = imputed_data[imputed_data['W']==0][x_vars+['diff_w=0']]\n",
        "    treatment_imp = imputed_data[imputed_data['W']==1][x_vars+['diff_w=1']]\n",
        "\n",
        "    # Estimate tau_0, tau_1 using \"base learners of the second stage\"\n",
        "\n",
        "    # Fit on imputed data (treatment group)\n",
        "    control_model = base_learner_2\n",
        "    control_model.fit(control_imp[x_vars],control_imp['diff_w=0'])\n",
        "    # tau_0 is a CATE estimate fit to the control group\n",
        "    tau_0 = control_model.predict(data[x_vars])\n",
        "\n",
        "    # Fit on imputed data (control group)\n",
        "    treatment_model = base_learner_2\n",
        "    treatment_model.fit(treatment_imp[x_vars],treatment_imp['diff_w=1'])\n",
        "    # tau_1 is a CATE estimate fit to the treatment group\n",
        "    tau_1 = control_model.predict(data[x_vars])\n",
        "\n",
        "    # Estimate propensity score\n",
        "    m_prop = prop_classifier\n",
        "    m_prop.fit(imputed_data[x_vars],imputed_data['W'])\n",
        "    g = m_prop.predict_proba(data[x_vars])[:,1]\n",
        "    \n",
        "    cate_x = g*tau_1 + (1-g)*tau_0\n",
        "\n",
        "    return cate_x"
      ],
      "execution_count": 210,
      "outputs": []
    },
    {
      "cell_type": "code",
      "metadata": {
        "colab": {
          "base_uri": "https://localhost:8080/"
        },
        "id": "IvE7ehTHWh0U",
        "outputId": "d8c47b91-7da4-47e2-e04b-0081cf576852"
      },
      "source": [
        "cate_x = x_learner(data=data,x_vars=x_vars,base_learner=base_learner,base_learner_2=base_learner_2, prop_classifier=prop_classifier)\n",
        "cate_x.shape"
      ],
      "execution_count": 211,
      "outputs": [
        {
          "output_type": "execute_result",
          "data": {
            "text/plain": [
              "(229461,)"
            ]
          },
          "metadata": {
            "tags": []
          },
          "execution_count": 211
        }
      ]
    },
    {
      "cell_type": "code",
      "metadata": {
        "id": "uBz12eTgtTA6"
      },
      "source": [
        "# Create dataframe with T-, S-, and X-learner CATE\n",
        "df = data.copy()\n",
        "df['cate_t'] = cate_t\n",
        "df['cate_s'] = cate_s\n",
        "df['cate_x'] = cate_x"
      ],
      "execution_count": 212,
      "outputs": []
    },
    {
      "cell_type": "code",
      "metadata": {
        "id": "LR8PG8GIwpeS",
        "colab": {
          "base_uri": "https://localhost:8080/"
        },
        "outputId": "472bd360-c45f-4457-f48f-623b5087a450"
      },
      "source": [
        "(df['cate_t']>0).sum(), (df['cate_t']<0).sum()"
      ],
      "execution_count": 213,
      "outputs": [
        {
          "output_type": "execute_result",
          "data": {
            "text/plain": [
              "(197336, 32125)"
            ]
          },
          "metadata": {
            "tags": []
          },
          "execution_count": 213
        }
      ]
    },
    {
      "cell_type": "code",
      "metadata": {
        "colab": {
          "base_uri": "https://localhost:8080/"
        },
        "id": "apWuvqiiERkL",
        "outputId": "0ef762f4-5aea-4af8-aebd-3880a412cc2e"
      },
      "source": [
        "(df['cate_s']>0).sum(), (df['cate_s']<0).sum()"
      ],
      "execution_count": 214,
      "outputs": [
        {
          "output_type": "execute_result",
          "data": {
            "text/plain": [
              "(222718, 6743)"
            ]
          },
          "metadata": {
            "tags": []
          },
          "execution_count": 214
        }
      ]
    },
    {
      "cell_type": "code",
      "metadata": {
        "colab": {
          "base_uri": "https://localhost:8080/"
        },
        "id": "26RVrJFqESYF",
        "outputId": "2ece054b-9248-401b-8743-55c8ac87615b"
      },
      "source": [
        "(df['cate_x']>0).sum(), (df['cate_x']<0).sum()"
      ],
      "execution_count": 215,
      "outputs": [
        {
          "output_type": "execute_result",
          "data": {
            "text/plain": [
              "(212393, 17068)"
            ]
          },
          "metadata": {
            "tags": []
          },
          "execution_count": 215
        }
      ]
    },
    {
      "cell_type": "markdown",
      "metadata": {
        "id": "v0K3tyWpXW0T"
      },
      "source": [
        "# Figure 2 "
      ]
    },
    {
      "cell_type": "code",
      "metadata": {
        "id": "z9-z7j6twpeT"
      },
      "source": [
        "def make_fig2(data,cate):\n",
        "    \"\"\"\n",
        "    data: dataset with Y, W, and covariates\n",
        "    cate: str() either 'x','t',or 's'\n",
        "    \"\"\"\n",
        "    # Create subgroups: count past election participation (ranges from 0 to 5)  \n",
        "    df['vote_history'] = data['g2000']+data['g2002']+data['p2000']+data['p2002']+data['p2004']\n",
        "    \n",
        "    # indicators for individuals for which CATE is negative (positive)\n",
        "    df[f\"cate_{cate}<0\"] = 1*(df[f\"cate_{cate}\"]<0)\n",
        "    df[f\"cate_{cate}>0\"] = 1*(df[f\"cate_{cate}\"]>0)\n",
        "\n",
        "    # Proportion of voters for which CATE is positive\n",
        "    df.groupby(by='vote_history',axis=0).mean()[[f\"cate_{cate}>0\",f\"cate_{cate}<0\",f\"cate_{cate}\"]]\n",
        "    \n",
        "    proportions = df.groupby(by='vote_history',axis=0).agg({f\"cate_{cate}>0\": ['sum'], 'Y':  ['count']})\n",
        " \n",
        "    # Creating dataset\n",
        "    est = f\"cate_{cate}\"\n",
        "\n",
        "    data_0 = df[df['vote_history'] == 0][est]*100\n",
        "    data_1 = df[df['vote_history'] == 1][est]*100\n",
        "    data_2 = df[df['vote_history'] == 2][est]*100\n",
        "    data_3 = df[df['vote_history'] == 3][est]*100\n",
        "    data_4 = df[df['vote_history'] == 4][est]*100\n",
        "    data_5 = df[df['vote_history'] == 5][est]*100\n",
        "    \n",
        "    # Each box is based on data for a specific subgroup\n",
        "    plot_data = [data_0, data_1, data_2, data_3, data_4, data_5]\n",
        "\n",
        "    # Width is proportional to the size of the group\n",
        "    subgroup_counts = df.groupby('vote_history').agg({f\"cate_{cate}\":'count'}).values.flatten()\n",
        "    width_data = [x/len(df) for x in subgroup_counts]\n",
        "\n",
        "    fig = plt.figure(figsize=(10, 5))\n",
        "\n",
        "    ax = fig.add_axes([0, 0, 1, 1])\n",
        "\n",
        "    # Format y axis as percentage\n",
        "    fmt = '%.0f%%'\n",
        "    yticks = mtick.FormatStrFormatter(fmt)\n",
        "    ax.yaxis.set_major_formatter(yticks)\n",
        "    # Labels\n",
        "    plt.xlabel('Cumulative Voting History')\n",
        "    plt.ylabel('CATE')\n",
        "    plt.title(f\"{str.upper(cate)}-learner: Figure 2 (Lower) using {str(base_learner)[:str(base_learner).find('(')]} as base learner\")\n",
        "\n",
        "    plt.grid()\n",
        "    bp = ax.boxplot(plot_data, widths=width_data,positions=[0,1,2,3,4,5],showfliers=False)\n",
        "    plt.savefig(path+str(cate)+'fig2_lower_BL='+str(base_learner)[:str(base_learner).find('(')])\n",
        "    plt.show()\n",
        "    plt.close()\n",
        "    \n",
        "    return df \n"
      ],
      "execution_count": 216,
      "outputs": []
    },
    {
      "cell_type": "code",
      "metadata": {
        "id": "G1uqzEKtwpeU",
        "colab": {
          "base_uri": "https://localhost:8080/",
          "height": 493
        },
        "outputId": "e43b77d3-49d6-46eb-ffad-6b4de5f69e4b"
      },
      "source": [
        "df_cate_x = make_fig2(data=df,cate='x')"
      ],
      "execution_count": 217,
      "outputs": [
        {
          "output_type": "stream",
          "text": [
            "/usr/local/lib/python3.7/dist-packages/numpy/core/_asarray.py:83: VisibleDeprecationWarning: Creating an ndarray from ragged nested sequences (which is a list-or-tuple of lists-or-tuples-or ndarrays with different lengths or shapes) is deprecated. If you meant to do this, you must specify 'dtype=object' when creating the ndarray\n",
            "  return array(a, dtype, copy=False, order=order)\n"
          ],
          "name": "stderr"
        },
        {
          "output_type": "display_data",
          "data": {
            "image/png": "[encoded data removed]",
            "text/plain": [
              "<Figure size 720x360 with 1 Axes>"
            ]
          },
          "metadata": {
            "tags": [],
            "needs_background": "light"
          }
        }
      ]
    },
    {
      "cell_type": "code",
      "metadata": {
        "colab": {
          "base_uri": "https://localhost:8080/",
          "height": 493
        },
        "id": "DrZN6wJnHw4c",
        "outputId": "0cf95470-bf7a-4b3b-9a86-4cfc504d1e69"
      },
      "source": [
        "df_cate_t = make_fig2(data=df,cate='t')"
      ],
      "execution_count": 218,
      "outputs": [
        {
          "output_type": "stream",
          "text": [
            "/usr/local/lib/python3.7/dist-packages/numpy/core/_asarray.py:83: VisibleDeprecationWarning: Creating an ndarray from ragged nested sequences (which is a list-or-tuple of lists-or-tuples-or ndarrays with different lengths or shapes) is deprecated. If you meant to do this, you must specify 'dtype=object' when creating the ndarray\n",
            "  return array(a, dtype, copy=False, order=order)\n"
          ],
          "name": "stderr"
        },
        {
          "output_type": "display_data",
          "data": {
            "image/png": "[encoded data removed]",
            "text/plain": [
              "<Figure size 720x360 with 1 Axes>"
            ]
          },
          "metadata": {
            "tags": [],
            "needs_background": "light"
          }
        }
      ]
    },
    {
      "cell_type": "code",
      "metadata": {
        "colab": {
          "base_uri": "https://localhost:8080/",
          "height": 493
        },
        "id": "U7kwvi0THx5F",
        "outputId": "e614f349-e953-481c-fdb0-da23007e8801"
      },
      "source": [
        "df_cate_s = make_fig2(data=df,cate='s')"
      ],
      "execution_count": 219,
      "outputs": [
        {
          "output_type": "stream",
          "text": [
            "/usr/local/lib/python3.7/dist-packages/numpy/core/_asarray.py:83: VisibleDeprecationWarning: Creating an ndarray from ragged nested sequences (which is a list-or-tuple of lists-or-tuples-or ndarrays with different lengths or shapes) is deprecated. If you meant to do this, you must specify 'dtype=object' when creating the ndarray\n",
            "  return array(a, dtype, copy=False, order=order)\n"
          ],
          "name": "stderr"
        },
        {
          "output_type": "display_data",
          "data": {
            "image/png": "[encoded data removed]",
            "text/plain": [
              "<Figure size 720x360 with 1 Axes>"
            ]
          },
          "metadata": {
            "tags": [],
            "needs_background": "light"
          }
        }
      ]
    },
    {
      "cell_type": "code",
      "metadata": {
        "id": "ALnYFMVQ-DWw"
      },
      "source": [
        "def make_fig3(data,cate):\n",
        "    \"\"\"\n",
        "    data: dataset with Y, W, and covariates\n",
        "    cate: str() either 'x','t',or 's'\n",
        "    \"\"\"\n",
        "    print(cate+'-learner')\n",
        "    # Create subgroups: count past election participation (ranges from 0 to 5)  \n",
        "    df['vote_history'] = data['g2000']+data['g2002']+data['p2000']+data['p2002']+data['p2004']\n",
        "    \n",
        "    # indicators for individuals for which CATE is negative (positive)\n",
        "    df[f\"cate_{cate}<0\"] = 1*(df[f\"cate_{cate}\"]<0)\n",
        "    df[f\"cate_{cate}>0\"] = 1*(df[f\"cate_{cate}\"]>0)\n",
        "\n",
        "    # Width is proportional to the size of the group\n",
        "    df_cate_pos = df.groupby('vote_history').agg('count')[f\"cate_{cate}>0\"]\n",
        "    df_cate_neg = df.groupby('vote_history').agg('count')[f\"cate_{cate}<0\"]\n",
        "    subgroup_counts = df.groupby('vote_history').agg({f\"cate_{cate}>0\":'count'}).values.flatten()\n",
        "    width_data = [x/len(df) for x in subgroup_counts]\n",
        "    x_pos = [0, 1, 2, 3, 4, 5, 6]\n",
        "      \n",
        "    fig = plt.figure(figsize=(10, 5)) \n",
        "    ax = fig.add_axes([0, 0, 1, 1])\n",
        "    plt.grid()\n",
        "      \n",
        "    ax.bar(df_cate_pos.index, df_cate_pos/len(df), width=width_data,)\n",
        "    ax.bar(df_cate_neg.index, -df_cate_neg/len(df), width=width_data,)\n",
        "\n",
        "    # Labels\n",
        "    plt.xlabel('Cumulative Voting History')\n",
        "    plt.ylabel('CATE')\n",
        "    plt.title(f\"{str.upper(cate)}-learner: Figure 2 (Upper) using {str(base_learner)[:str(base_learner).find('(')]} as base learner\")\n",
        "\n",
        "    # Format y axis as percentage\n",
        "    fmt = '%.2f%%'\n",
        "    yticks = mtick.FormatStrFormatter(fmt)\n",
        "    ax.yaxis.set_major_formatter(yticks)\n",
        "    plt.savefig(path+'fig2_upper_BL='+str(base_learner)[:str(base_learner).find('(')])\n",
        "\n",
        "    plt.show()\n",
        "\n",
        "    return df\n"
      ],
      "execution_count": 220,
      "outputs": []
    },
    {
      "cell_type": "markdown",
      "metadata": {
        "id": "0DysHpmXbTBg"
      },
      "source": [
        "# Figure 3"
      ]
    },
    {
      "cell_type": "code",
      "metadata": {
        "colab": {
          "base_uri": "https://localhost:8080/"
        },
        "id": "Qa11sGPTcunx",
        "outputId": "68333bfa-b505-4cb0-f8fc-098a63c0f66d"
      },
      "source": [
        "# Sample data according to the unequal treatment proportion observed in the full data\n",
        "p = df['W'].mean()\n",
        "prob_treat = p/len(df[df['W']==1])\n",
        "prob_control = (1-p)/len(df[df['W']==0])\n",
        "\n",
        "df['propensity'] = prob_treat*(df['W']==1) + prob_control*(df['W']==0)\n",
        "\n",
        "# Check sums to 1\n",
        "df['propensity'].sum() - 1.0 <= 1e-15"
      ],
      "execution_count": 222,
      "outputs": [
        {
          "output_type": "execute_result",
          "data": {
            "text/plain": [
              "True"
            ]
          },
          "metadata": {
            "tags": []
          },
          "execution_count": 222
        }
      ]
    },
    {
      "cell_type": "code",
      "metadata": {
        "id": "Gi_T4NR6hUcU"
      },
      "source": [
        "# Impute the potential outcomes under both treatment and control for every observation.\n",
        "sim = df.copy()\n",
        "\n",
        "# Assume CATE estimates produced by T-RF are true and impute potential outcomes\n",
        "sim['y_0_impute'] = sim['Y_1']-sim['cate_t']\n",
        "sim['y_1_impute'] = sim['Y_0']+sim['cate_t']\n",
        "\n",
        "# Assume you can't have potential outcomes lower than 0 or greater than 1\n",
        "sim['y_0_impute'] = [min(max(i,0),1) for i in sim['y_0_impute']]\n",
        "sim['y_1_impute'] = [max(min(i,1),0) for i in sim['y_1_impute']]"
      ],
      "execution_count": 223,
      "outputs": []
    },
    {
      "cell_type": "code",
      "metadata": {
        "id": "8UWf_kkO1Nus"
      },
      "source": [
        "def t_learner_simulation(train_data, test_data, x_vars, base_learner):\n",
        "    # separate outcomes for treated and untreated individuals\n",
        "    train_data['Y_0'] = train_data[train_data['W']==0]['Y']\n",
        "    train_data['Y_1'] = train_data[train_data['W']==1]['Y']\n",
        "\n",
        "    # create separate dataframes for treated and untreated so we can fit base_learner\n",
        "    treatment_group = train_data[x_vars+['Y_1']].dropna()\n",
        "    control_group = train_data[x_vars+['Y_0']].dropna()\n",
        "\n",
        "    # Estimate control group response function\n",
        "    model_0 = base_learner\n",
        "    # This is fit on the control group\n",
        "    model_0.fit(control_group[x_vars],control_group['Y_0'])\n",
        "    mu_0 = model_0.predict_proba(test_data[x_vars])[:,1]\n",
        "\n",
        "    # Estimate treatment group response function\n",
        "    model_1 = base_learner\n",
        "    # This is fit on the treatment group\n",
        "    model_1.fit(treatment_group[x_vars],treatment_group['Y_1'])\n",
        "    mu_1 = model_1.predict_proba(test_data[x_vars])[:,1]\n",
        "\n",
        "    cate_t = mu_1 - mu_0\n",
        "\n",
        "    return pd.DataFrame(data=cate_t,index=test_data.index,columns=['test_cate_t']) # cate estimates on test set"
      ],
      "execution_count": 225,
      "outputs": []
    },
    {
      "cell_type": "code",
      "metadata": {
        "id": "wE8roeqW1vL3"
      },
      "source": [
        "def s_learner_simulation(train_data, test_data, x_vars, base_learner):\n",
        "    # Estimate combined response function (here, we include W as an input)\n",
        "    model_combined = base_learner\n",
        "    model_combined.fit(train_data[x_vars+['W']],train_data['Y'])\n",
        "\n",
        "    # Create dataframe for predictions\n",
        "    test_data_w = test_data[x_vars].copy()\n",
        "\n",
        "    # Pretend everyone is treated\n",
        "    # Estimated response when W = 1\n",
        "    test_data_w['W=1'] = 1\n",
        "\n",
        "    # Pretend everyone is control\n",
        "    # Estimated response when W = 0\n",
        "    test_data_w['W=0'] = 0\n",
        "\n",
        "    # Estimate individual response under assumption that everyone is treated (i.e. W=1)\n",
        "    mu_1_s = model_combined.predict_proba(test_data_w[x_vars+['W=1']])[:,1]\n",
        "\n",
        "    # Estimate individual response under assumption that everyone is in control group (i.e. W=0)\n",
        "    mu_0_s = model_combined.predict_proba(test_data_w[x_vars+['W=0']])[:,1]\n",
        "\n",
        "    cate_s = mu_1_s - mu_0_s\n",
        "\n",
        "    return pd.DataFrame(data=cate_s,index=test_data.index,columns=['test_cate_s']) # cate estimates on test set\n"
      ],
      "execution_count": 226,
      "outputs": []
    },
    {
      "cell_type": "code",
      "metadata": {
        "id": "zpJsnqzu2oy0"
      },
      "source": [
        "def x_learner_simulation(train_data, test_data, x_vars, base_learner, base_learner_2, prop_classifier):\n",
        "    \"\"\"\n",
        "    Input:\n",
        "        data: pd.Dataframe\n",
        "        base_learner: base learner used to get mu_0, mu_1\n",
        "        base_learner_2: base learner of the second stage (used to get tau_0, tau_1)\n",
        "        prop_classifier: classifier to estimate propensity score\n",
        "    Output:\n",
        "        CATE estimate\n",
        "    \"\"\"\n",
        "    # separate outcomes for treated and untreated individuals\n",
        "    train_data['Y_0'] = train_data[train_data['W']==0]['Y']\n",
        "    train_data['Y_1'] = train_data[train_data['W']==1]['Y']\n",
        "\n",
        "    # create separate dataframes for treated and untreated so we can fit base_learner\n",
        "    treatment_group = train_data[x_vars+['Y_1']].dropna()\n",
        "    control_group = train_data[x_vars+['Y_0']].dropna()\n",
        "\n",
        "    # Estimate control response function\n",
        "    # Same as T-learner\n",
        "    model_0 = base_learner \n",
        "    model_0.fit(control_group[x_vars],control_group['Y_0'])\n",
        "\n",
        "    # Use mu_0 to impute potential outcome Y(0) for TREATMENT group\n",
        "    treatment_group['y_hat_0'] = model_0.predict_proba(treatment_group[x_vars])[:,1]\n",
        "\n",
        "    # Estimate treatment response function\n",
        "    # Same as T-learner\n",
        "    model_1 = base_learner\n",
        "    model_1.fit(treatment_group[x_vars],treatment_group['Y_1'])\n",
        "\n",
        "    # Use mu_1 to impute  potential outcome Y(1) for CONTROL group\n",
        "    control_group['y_hat_1'] = model_1.predict_proba(control_group[x_vars])[:,1]\n",
        "\n",
        "    # Add treatment flag\n",
        "    treatment_group['W'] = 1\n",
        "    control_group['W'] = 0\n",
        "\n",
        "    imputed_data = pd.concat((treatment_group,control_group))\n",
        "\n",
        "    # Use imputed potential outcomes to imputed treatment effects \n",
        "    imputed_data['diff_w=0'] = imputed_data['y_hat_1'] - imputed_data['Y_0'] # y_hat_1 is NaN for W=1\n",
        "    imputed_data['diff_w=1'] = imputed_data['Y_1'] - imputed_data['y_hat_0'] # y_hat_0 is NaN for W=0\n",
        "\n",
        "    # We have imputed \"full\" data\n",
        "    control_imp = imputed_data[imputed_data['W']==0][x_vars+['diff_w=0']]\n",
        "    treatment_imp = imputed_data[imputed_data['W']==1][x_vars+['diff_w=1']]\n",
        "\n",
        "    # Estimate tau_0, tau_1 using \"base learners of the second stage\"\n",
        "\n",
        "    # Fit on imputed data (treatment group)\n",
        "    control_model = base_learner_2\n",
        "    control_model.fit(control_imp[x_vars],control_imp['diff_w=0'])\n",
        "    # tau_0 is a CATE estimate fit to the control group\n",
        "    tau_0 = control_model.predict(test_data[x_vars])\n",
        "\n",
        "    # Fit on imputed data (control group)\n",
        "    treatment_model = base_learner_2\n",
        "    treatment_model.fit(treatment_imp[x_vars],treatment_imp['diff_w=1'])\n",
        "    # tau_1 is a CATE estimate fit to the treatment group\n",
        "    tau_1 = control_model.predict(test_data[x_vars])\n",
        "\n",
        "    # Estimate propensity score\n",
        "    m_prop = prop_classifier\n",
        "    m_prop.fit(train_data[x_vars],train_data['W'])\n",
        "    g = m_prop.predict_proba(test_data[x_vars])[:,1]\n",
        "\n",
        "    cate_x = g*tau_1 + (1-g)*tau_0\n",
        "\n",
        "    return pd.DataFrame(data=cate_x,index=test_data.index,columns=['test_cate_x']) # cate estimates on test set"
      ],
      "execution_count": 227,
      "outputs": []
    },
    {
      "cell_type": "markdown",
      "metadata": {
        "id": "s6PVABW5Xlc2"
      },
      "source": [
        "# RMSE, bias, variance\n",
        "\n",
        "### RMSE = $\\sqrt{E[(\\hat{y}-y)^2]}$\n",
        "\n",
        "### Bias = $E[\\hat{y}]-y$\n",
        "\n",
        "### Variance = $E[(\\hat{y}-E[\\hat{y}])^2]$"
      ]
    },
    {
      "cell_type": "code",
      "metadata": {
        "id": "XgXwD0_h41mW"
      },
      "source": [
        "def compute_rmse(test_cate_t, test_cate_s, test_cate_x, ground_truth):\n",
        "    df_output = (test_cate_t.join(test_cate_s)).join(test_cate_x).join(ground_truth)\n",
        "\n",
        "    # Compute Std. Error for each individual's CATE prediction (ground truth is CATE from T-learner on full data)\n",
        "    df_output['SE_t'] = (df_output['test_cate_t'] - df_output['cate_t'])**2\n",
        "    df_output['SE_s'] = (df_output['test_cate_s'] - df_output['cate_t'])**2\n",
        "    df_output['SE_x'] = (df_output['test_cate_x'] - df_output['cate_t'])**2\n",
        "\n",
        "    # Return RMSE for each learner\n",
        "    return np.sqrt(df_output['SE_t'].mean()), np.sqrt(df_output['SE_s'].mean()), np.sqrt(df_output['SE_x'].mean())"
      ],
      "execution_count": 228,
      "outputs": []
    },
    {
      "cell_type": "code",
      "metadata": {
        "id": "3XeVLPneCNYQ"
      },
      "source": [
        "def compute_variance(test_cate_t, test_cate_s, test_cate_x, ground_truth):\n",
        "    df_output = (test_cate_t.join(test_cate_s)).join(test_cate_x).join(ground_truth)\n",
        "\n",
        "    # Variance: average of (prediction - average prediction) squared\n",
        "    df_output['sqdev_t'] = (df_output['test_cate_t'].mean() - df_output['test_cate_t'])**2\n",
        "    df_output['sqdev_s'] = (df_output['test_cate_s'].mean() - df_output['test_cate_s'])**2\n",
        "    df_output['sqdev_x'] = (df_output['test_cate_x'].mean() - df_output['test_cate_x'])**2\n",
        "\n",
        "    df_output['var_t'] = df_output['sqdev_t']\n",
        "    df_output['var_s'] = df_output['sqdev_s']\n",
        "    df_output['var_x'] = df_output['sqdev_x']\n",
        "\n",
        "    # Return average variance for each learner\n",
        "    return df_output['var_t'].mean(),df_output['var_s'].mean(),df_output['var_x'].mean()"
      ],
      "execution_count": 229,
      "outputs": []
    },
    {
      "cell_type": "code",
      "metadata": {
        "id": "32PFmEAFcLLZ"
      },
      "source": [
        "def compute_bias(test_cate_t, test_cate_s, test_cate_x, ground_truth):\n",
        "    df_output = (test_cate_t.join(test_cate_s)).join(test_cate_x).join(ground_truth)\n",
        "\n",
        "    # Bias: how far off the average estimated value is from the true value\n",
        "    df_output['bias_t'] = (df_output['test_cate_t'].mean() - df_output['cate_t'])\n",
        "    df_output['bias_s'] = (df_output['test_cate_s'].mean() - df_output['cate_t'])\n",
        "    df_output['bias_x'] = (df_output['test_cate_x'].mean() - df_output['cate_t'])\n",
        "\n",
        "    # Return average bias for each learner\n",
        "    return df_output['bias_t'].mean(), df_output['bias_s'].mean(), df_output['bias_x'].mean()"
      ],
      "execution_count": 230,
      "outputs": []
    },
    {
      "cell_type": "code",
      "metadata": {
        "colab": {
          "base_uri": "https://localhost:8080/"
        },
        "id": "6gkLbLj-X8vd",
        "outputId": "d5cd629d-2506-4f01-dc43-ed2ab5656a47"
      },
      "source": [
        "from time import time\n",
        "training_sizes = [100, 500, 1_000, 2_000, 5_000, 15_000, 40_000, 80_000]\n",
        "# Sample training data from the complete data and predict the CATE estimates for the test data using S-, T-, and X-RF.\n",
        "rng = np.random.default_rng()\n",
        "rmse_dict = {'t':[],\n",
        "             's':[],\n",
        "             'x':[]}\n",
        "bias_dict = {'t':[],\n",
        "             's':[],\n",
        "             'x':[]}\n",
        "var_dict = {'t':[],\n",
        "             's':[],\n",
        "             'x':[]}\n",
        "\n",
        "start_time = time()\n",
        "for t in training_sizes:\n",
        "    # Generate random sample with the correct proportion of treated\n",
        "    sample_index = rng.choice(a=df.index, size=t, replace=False, p=df['propensity'])\n",
        "    print('The proportion of treated individuals in the sample is:', df.iloc[sample_index]['W'].mean())\n",
        "\n",
        "    # Split into train, test\n",
        "    train_set = sim.iloc[sample_index]\n",
        "    test_set = df.drop(sample_index,axis=0)\n",
        "    print('Train set size:',len(train_set),'Test set size:',len(test_set))\n",
        "\n",
        "    # create dataframe for t-, s-, x-learner\n",
        "    df_train = train_set[x_vars+['W','Y']].copy()\n",
        "    df_test = test_set[x_vars+['W','Y']].copy()\n",
        "\n",
        "    test_cate_t = t_learner_simulation(df_train,df_test,x_vars,base_learner)\n",
        "    test_cate_s = s_learner_simulation(df_train,df_test,x_vars,base_learner)\n",
        "    test_cate_x = x_learner_simulation(df_train,df_test,x_vars,base_learner,base_learner_2=RandomForestRegressor(),prop_classifier=RandomForestClassifier())\n",
        "\n",
        "    # Store RMSE\n",
        "    rmse_t, rmse_s, rmse_x = compute_rmse(test_cate_t, test_cate_s, test_cate_x, test_set['cate_t'])\n",
        "    rmse_dict['t'].append(rmse_t)\n",
        "    rmse_dict['s'].append(rmse_s)\n",
        "    rmse_dict['x'].append(rmse_x)\n",
        "    # Store Bias\n",
        "    avg_bias_t, avg_bias_s, avg_bias_x = compute_bias(test_cate_t, test_cate_s, test_cate_x, test_set['cate_t'])\n",
        "    bias_dict['t'].append(avg_bias_t)\n",
        "    bias_dict['s'].append(avg_bias_s)\n",
        "    bias_dict['x'].append(avg_bias_x)\n",
        "    # Store Variance\n",
        "    avg_var_t, avg_var_s, avg_var_x = compute_variance(test_cate_t, test_cate_s, test_cate_x, test_set['cate_t'])\n",
        "    var_dict['t'].append(avg_var_t)\n",
        "    var_dict['s'].append(avg_var_s)\n",
        "    var_dict['x'].append(avg_var_x)\n",
        "\n",
        "time_elapsed = time() - start_time\n",
        "print(f'Time elapsed: {time_elapsed}')"
      ],
      "execution_count": 231,
      "outputs": [
        {
          "output_type": "stream",
          "text": [
            "The proportion of treated individuals in the sample is: 0.19\n",
            "Train set size: 100 Test set size: 229361\n",
            "The proportion of treated individuals in the sample is: 0.172\n",
            "Train set size: 500 Test set size: 228961\n",
            "The proportion of treated individuals in the sample is: 0.159\n",
            "Train set size: 1000 Test set size: 228461\n",
            "The proportion of treated individuals in the sample is: 0.163\n",
            "Train set size: 2000 Test set size: 227461\n",
            "The proportion of treated individuals in the sample is: 0.1704\n",
            "Train set size: 5000 Test set size: 224461\n",
            "The proportion of treated individuals in the sample is: 0.165\n",
            "Train set size: 15000 Test set size: 214461\n",
            "The proportion of treated individuals in the sample is: 0.167925\n",
            "Train set size: 40000 Test set size: 189461\n",
            "The proportion of treated individuals in the sample is: 0.1676625\n",
            "Train set size: 80000 Test set size: 149461\n",
            "Time elapsed: 126.30278873443604\n"
          ],
          "name": "stdout"
        }
      ]
    },
    {
      "cell_type": "code",
      "metadata": {
        "colab": {
          "base_uri": "https://localhost:8080/",
          "height": 294
        },
        "id": "LDpDkwu_6HQD",
        "outputId": "89c51e06-9dbd-49d0-9ce3-6f8ad57b001d"
      },
      "source": [
        "plt.plot([i/1000 for i in training_sizes],rmse_dict['t'],c='gray',marker='x')\n",
        "plt.plot([i/1000 for i in training_sizes],rmse_dict['s'],c='green',marker='x')\n",
        "plt.plot([i/1000 for i in training_sizes],rmse_dict['x'],c='blue',marker='x')\n",
        "plt.title('RMSE vs. sample size')\n",
        "plt.xlabel('Training size (in 1000)')\n",
        "plt.ylabel('RMSE')\n",
        "plt.legend(labels=['T-learner','S-learner','X-learner'])\n",
        "plt.savefig(path+'fig3_rmse_BL='+str(base_learner)[:str(base_learner).find('(')])\n",
        "plt.show()"
      ],
      "execution_count": 232,
      "outputs": [
        {
          "output_type": "display_data",
          "data": {
            "image/png": "[encoded data removed]",
            "text/plain": [
              "<Figure size 432x288 with 1 Axes>"
            ]
          },
          "metadata": {
            "tags": [],
            "needs_background": "light"
          }
        }
      ]
    },
    {
      "cell_type": "code",
      "metadata": {
        "colab": {
          "base_uri": "https://localhost:8080/",
          "height": 294
        },
        "id": "l7YeGMJ0-oQG",
        "outputId": "56b9ce7b-8fd7-4055-8eee-7a5a3bd0ab7b"
      },
      "source": [
        "plt.plot([i/1000 for i in training_sizes],bias_dict['t'],c='gray',marker='x')\n",
        "plt.plot([i/1000 for i in training_sizes],bias_dict['s'],c='green',marker='x')\n",
        "plt.plot([i/1000 for i in training_sizes],bias_dict['x'],c='blue',marker='x')\n",
        "plt.title('Bias vs. sample size')\n",
        "plt.xlabel('Training size (in 1000)')\n",
        "plt.ylabel('Average Bias')\n",
        "plt.legend(labels=['T-learner','S-learner','X-learner'])\n",
        "plt.savefig(path+'fig3_bias_BL='+str(base_learner)[:str(base_learner).find('(')])\n",
        "plt.show()"
      ],
      "execution_count": 233,
      "outputs": [
        {
          "output_type": "display_data",
          "data": {
            "image/png": "[encoded data removed]",
            "text/plain": [
              "<Figure size 432x288 with 1 Axes>"
            ]
          },
          "metadata": {
            "tags": [],
            "needs_background": "light"
          }
        }
      ]
    },
    {
      "cell_type": "code",
      "metadata": {
        "colab": {
          "base_uri": "https://localhost:8080/",
          "height": 294
        },
        "id": "YtqrW9wgHGLc",
        "outputId": "be5f9bda-9ac3-4512-e9e1-c52ac64995d7"
      },
      "source": [
        "plt.plot([i/1000 for i in training_sizes],var_dict['t'],c='gray',marker='x')\n",
        "plt.plot([i/1000 for i in training_sizes],var_dict['s'],c='green',marker='x')\n",
        "plt.plot([i/1000 for i in training_sizes],var_dict['x'],c='blue',marker='x')\n",
        "plt.title('Variance vs. sample size')\n",
        "plt.xlabel('Training size (in 1000)')\n",
        "plt.ylabel('Average Variance')\n",
        "plt.legend(labels=['T-learner','S-learner','X-learner'])\n",
        "plt.savefig(path+'fig3_variance_BL='+str(base_learner)[:str(base_learner).find('(')])\n",
        "plt.show()"
      ],
      "execution_count": 234,
      "outputs": [
        {
          "output_type": "display_data",
          "data": {
            "image/png": "[encoded data removed]",
            "text/plain": [
              "<Figure size 432x288 with 1 Axes>"
            ]
          },
          "metadata": {
            "tags": [],
            "needs_background": "light"
          }
        }
      ]
    },
    {
      "cell_type": "code",
      "metadata": {
        "id": "bmmB_eodoXRQ"
      },
      "source": [
        ""
      ],
      "execution_count": 234,
      "outputs": []
    }
  ]
}